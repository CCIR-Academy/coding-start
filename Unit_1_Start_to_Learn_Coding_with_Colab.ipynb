{
  "nbformat": 4,
  "nbformat_minor": 0,
  "metadata": {
    "colab": {
      "name": "Unit 1 - Start to Learn Coding with Colab.ipynb",
      "provenance": [],
      "authorship_tag": "ABX9TyM6PEn+JXBzzpzVIJylZBtE",
      "include_colab_link": true
    },
    "kernelspec": {
      "name": "python3",
      "display_name": "Python 3"
    },
    "language_info": {
      "name": "python"
    }
  },
  "cells": [
    {
      "cell_type": "markdown",
      "metadata": {
        "id": "view-in-github",
        "colab_type": "text"
      },
      "source": [
        "<a href=\"https://colab.research.google.com/github/CCIR-Academy/coding-start/blob/main/Unit_1_Start_to_Learn_Coding_with_Colab.ipynb\" target=\"_parent\"><img src=\"https://colab.research.google.com/assets/colab-badge.svg\" alt=\"Open In Colab\"/></a>"
      ]
    },
    {
      "cell_type": "markdown",
      "source": [
        "# Before Everything \n",
        ">Skip if you have read the README.md of the repo\n",
        "\n",
        "- **Where am I**: This Colab note is part of the content delivered with [CCIR-Academy/coding-start](https://github.com/CCIR-Academy/coding-start), which \"aims to serve a series of pre-arrival contents as a self-learning session about the fundamentals of coding and softwares in the academic realm, for students in CCIR-Academy, particularly students currently majoring or in the near future in computer science and those taking a computational STEM course.\"\n",
        "- **Targeted Audience**:\n",
        "    - Students who have a relatively solid math background but don’t know anything about programming.\n",
        "    - Students who know a bit about programming but don’t have formal education on the subjects\n",
        "\n",
        "## Session Design\n",
        "### Session Goal\n",
        "This session aims to help students with the following goals:\n",
        "- Get familiar with the basics of Python (e.g., syntax)\n",
        "- Acquire some knowledge on debugging\n",
        "- Know where to search for answers\n",
        "- Gain some hands-on experience (e.g., a mini-project that students can complete within 4-6 hours)\n",
        "\n",
        "### Session Coverage\n",
        "This session aims to cover the following topics as suggested by our faculty members:\n",
        "\n",
        "- General introduction to Python.\n",
        "- Basic Python syntax and usage(e.g. list, dictionary, for and while loops, debugging)\n",
        "- Fundamentals of setting up and using Jupyter Notebook (powered by Google Colab)\n",
        "- Fundamentals of frequently imported third-party libraries (e.g., numpy, scipyh and pandas）\n",
        "- Basic academic techniques that requires knowledge of coding or using certain softwares (e.g., data visualization, markdown writing, database)\n",
        "\n",
        "### Session Structure\n",
        "- **Volume of Content**: We expect students spend 4 - 6 hours a week on the session for 2 weeks or in other words 8 - 12 hours in total as students should feel free to adjust their own pace.\n",
        "\n",
        "- **Learning Materials**: Materials are designed as units in relation to topics and distributed as Google Colab Notebooks. Each unit would contain:\n",
        "    - Overall study guides (How to use these material)\n",
        "    - Reading materials/videos or both.\n",
        "    - Step-by-step guided exercises"
      ],
      "metadata": {
        "id": "8h58bJ_xg_mz"
      }
    },
    {
      "cell_type": "markdown",
      "source": [
        "# Unit 1 - Start to Learn Coding with Colab\n",
        "\n",
        "## Goals of the Unit\n",
        "- Quickstart\n",
        "    - Learn to set up a Jupyter Notebook environment on Colab.\n",
        "    - Learn the basics of Python\n",
        "- Learning Guide: \n",
        "    - Learn how to learn by yourself in this session.\n",
        "    - Available resources.\n",
        "\n"
      ],
      "metadata": {
        "id": "ixtwg4D3i7Gq"
      }
    },
    {
      "cell_type": "markdown",
      "source": [
        "# Quickstart"
      ],
      "metadata": {
        "id": "yH3q1p3xhOsg"
      }
    },
    {
      "cell_type": "markdown",
      "metadata": {
        "id": "5ps3qODlCCUd"
      },
      "source": [
        "### Jupyter Notebooks with Colab\n",
        "- **What is Jupyter Notebooks**: The Jupyter Notebook is an open-source web application that allows you to create and share documents that contain live code, equations, visualizations and narrative text.\n",
        "- **What is Colab**: Colab, or \"Colaboratory\", provided by Google, allows you to write and execute Python in your browser, with zero configuration required, free access to GPUs, and easy sharing.\n",
        "    - In short, Google Colab allows you to run a more user-friendly version of Jupyter Notebook on servers provided by Google for free.\n",
        "    - In fact, this notebook is running on Colab as it allows running .ipynb file from GitHub repos.\n",
        "- **Why Jupyter Notebooks**: In day-to-day practices of academic research in all areas, most computational procedures are done in Jupyter notebook as this simplifies the whole working experience by removing the need to set up the software and hardware for academic computations; meanwhile, by circulating .ipynb files, representations and reproductions of academic explorations become transferable.\n",
        "  - My Opinion:\n",
        "    - Interactive\n",
        "    - Easier environment management\n",
        "    - Easy to output\n",
        "- **How to set up your Colab environment**: Finish Assignment 1 to **Create your first Jupyter Notebook on Colab!**\n"
      ]
    },
    {
      "cell_type": "markdown",
      "metadata": {
        "id": "Wbk4Eliu4Nuh"
      },
      "source": [
        "## Assignment 1: Create your first Jupyter Notebook on Colab!\n",
        "- Objectives:\n",
        "    - Know how to interact with and compose a Jupyter Notebook on Colab.\n",
        "- Walkthrough:\n",
        "    - Create a new repo under CCIR-Academy (assuming you've already joind the GitHub Organization) by importing this repo\n",
        "        1. Access this page to create a new repo under CCIR-Academy\n",
        "        > https://github.com/new/import\n",
        "        2. In `Your old repository’s clone URL`, enter the following link to the current repo\n",
        "        > https://github.com/CCIR-Academy/coding-start\n",
        "        3. In `Your new repository details` -> `Owner`, choose `CCIR-Academy` (if you don't see this option, you need to first join the GitHub Organization first by asking our staffs to send you an invitation).\n",
        "        4. In `Repository Name`, enter a name that can indicate the proper usage of the repo as well as who is using this repo (e.g. `coding-start-Aiko`). `Privacy` shall be left as `Public`.\n",
        "        5. You should be redirected to the newly created repo; if so, open the required `Assignment_Unit_1.ipynb`, and click the button `Open in Colab` at the beginning of the file preview.  Click `Copy to Drive` to save a copy in your Google Drive.\n",
        "    - In the copy you just created at your Google Drive, solve the problems and save with the output.\n",
        "    - After finishing the assignment, save a copy to your repo (under CCIR-Academy).\n",
        "        1. On the menu, click `File -> Save a Copy in GitHub`. You might be guided to the authorization process from GitHub to Google Drive if you havn't done this before.\n",
        "        2. On `Repository`, choose the GitHub repo you created by importing `CCIR-Academy/coding-start` (for example, if the repo you created was named `coding-start-Aiko`, the correct choice for this field would be `CCIR-Academy/coding-start-Aiko`), and click `OK`. After this, you're done for Unit 1! \n"
      ]
    },
    {
      "cell_type": "markdown",
      "source": [
        "## Basics of Python\n",
        "\n",
        "### Why Python\n",
        "- My Opinion:\n",
        "    - Readability and Easiness to Write\n",
        "    - Python Community\n",
        "    - Open Source Libraries\n",
        "    - \"Glue\" Language\n",
        "    - Cross-platform\n",
        "    - Dynamic Typing\n",
        "- Further Reading:\n",
        "    - https://www.tutorialspoint.com/python/index.htm\n",
        "    - https://www.upgrad.com/blog/reasons-why-python-popular-with-developers/\n",
        "    - https://medium.com/@mindfiresolutions.usa/python-7-important-reasons-why-you-should-use-python-5801a98a0d0b"
      ],
      "metadata": {
        "id": "oTL4SkzfirNy"
      }
    },
    {
      "cell_type": "markdown",
      "metadata": {
        "id": "FuRSYi6ImMZa"
      },
      "source": [
        "### Dynamic Data Types in Python\n",
        "  - You do not need to declare variables before using them, or declare their type. \n",
        "  - You can change the data type or even structure dynamically (not recommended)"
      ]
    },
    {
      "cell_type": "code",
      "metadata": {
        "id": "PQizWMiQNpT7",
        "outputId": "6b7cefc3-8658-4726-bdab-5af3327cc647",
        "colab": {
          "base_uri": "https://localhost:8080/"
        }
      },
      "source": [
        "#←Click this button to try\n",
        "myint = 0\n",
        "print(myint+1)\n",
        "myint = str(myint)\n",
        "print(myint+\"1\")\n"
      ],
      "execution_count": null,
      "outputs": [
        {
          "output_type": "stream",
          "text": [
            "1\n",
            "01\n"
          ],
          "name": "stdout"
        }
      ]
    },
    {
      "cell_type": "markdown",
      "metadata": {
        "id": "wv5c0UV-Nmcs"
      },
      "source": [
        "### Object Oriented Programming in Python\n",
        "- Almost everything in Python is an object with properties and methods. \n",
        "- Attributes/Properties: Data or connections attached to an object that can be accessed or changed.\n",
        "- Methods: Invokable functions attached to an object.\n",
        "    - To some extend, methods can be understood as attributes too.\n"
      ]
    },
    {
      "cell_type": "code",
      "metadata": {
        "id": "bHsnuH1djk7a"
      },
      "source": [
        "### We will learn more about Class later\n",
        "class myIdentityClass(object): # MyIdentityClass is defined on the basis of \"the object\"\n",
        "    def __init__(self, firstName, lastName): # This is the initilization method which would be automatically called in creating an instance.\n",
        "        self.firstName = firstName  # This defines an attribute of the created object\n",
        "        self.lastName = lastName \n",
        "    def printMyName(self):  # This defines a method of the created object which requires no parameters.\n",
        "        print(\"My name is %s %s.\" % (self.firstName, self.lastName))\n",
        "    def saySomething(self, sentence): # This defines a method of the created object which requires a parameter named \"sentence\".\n",
        "        print(\"%s %s said: %s\" % (self.firstName, self.lastName, sentence))\n",
        "###\n",
        "\n",
        "\n",
        "mySelf = myIdentityClass(\"John\", \"Appleseed\")\n",
        "print(mySelf.firstName)\n",
        "print(mySelf.lastName)\n",
        "mySelf.printMyName() # This calls the method without a parameter\n",
        "mySelf.saySomething(\"Hello World!\") # This calls the method with a parameter\n",
        "mySelf.myPhoneNumber = \"123456789\" # This dynamically attach an additional attirbute to the created object\n",
        "print(mySelf.myPhoneNumber) \n",
        "print(type(mySelf))\n",
        "print(type(mySelf.firstName))\n",
        "print(type(mySelf.printMyName))\n",
        "    "
      ],
      "execution_count": null,
      "outputs": []
    },
    {
      "cell_type": "markdown",
      "metadata": {
        "id": "6_ct8Gxhl_p_"
      },
      "source": [
        "### Basic Types in Python\n",
        "- Numbers\n",
        "    - Integer Numbers: `myInt = 7`\n",
        "    - Floating Point Numbers `myFloat = 7.07`\n",
        "- Strings: `myString = \"myString\"`\n",
        "- Booleans: \n",
        "    - `myTrueBoolean = True` \n",
        "    - `myFalseBoolean = False` \n",
        "- None/Null: \n",
        "    - The None keyword is used to define a null value, or no value at all.\n",
        "    - None is not the same as 0, False, or an empty string. None is a data type of its own (NoneType) and only None can be None.\n",
        "- Lists/Sets/Tuples/Dictionaries: The four built-in data types used to store collections of data in Python with different qualities and usage.\n",
        "    - List: \n",
        "        - Created with square brackets: `myList = [1, 2, 3, 3]`\n",
        "        - Ordered, changeable, and allow duplicate values.\n",
        "        - Indexed, the first item has index [0], the second item has index [1] etc.\n",
        "    - Tuple\n",
        "        - Created with round brackets: `myTuple = (1, 2, 3, 3)`\n",
        "        - Ordered and unchangeable, and allow duplicate values.\n",
        "    - Set:\n",
        "        - Created with curly brackets: `mySet = {1, 2, 3}`\n",
        "        - Set items are unordered, unchangeable, and do not allow duplicate values.\n",
        "    - Dictionaries:\n",
        "        - Created with curly brackets and key:value pair: `myDictionary = {\"a\": 1, \"b\": 2, \"c\": 3}`\n",
        "        - Ordered (as of Python 3.7), changeable, and does not allow duplicates of keys.\n",
        "        - Dictionary items are presented in key:value pairs, and can be referred to by using the key name."
      ]
    },
    {
      "cell_type": "code",
      "metadata": {
        "id": "vBr3FymvtlLk"
      },
      "source": [
        "myList = [1, 2, 3, 3]\n",
        "myTuple = (1, 2, 3, 3)\n",
        "mySet = {1, 2, 3}\n",
        "myDictionary = {\"a\": 1, \"b\": 2, \"c\": 3}\n",
        "\n",
        "print(myList[0])\n",
        "print(myTuple[1])\n",
        "print(1 in mySet)\n",
        "print(myDictionary[\"c\"])"
      ],
      "execution_count": null,
      "outputs": []
    },
    {
      "cell_type": "markdown",
      "metadata": {
        "id": "bjHX8bjdm_FC"
      },
      "source": [
        "## Basic Operators\n",
        "- Arithmetic Operators\n",
        "- Assignment Operators\n",
        "- Comparison Operators\n",
        "- Logical Operators\n",
        "- Membership Operators"
      ]
    }
  ]
}