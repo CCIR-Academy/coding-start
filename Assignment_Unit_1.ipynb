{
  "nbformat": 4,
  "nbformat_minor": 0,
  "metadata": {
    "colab": {
      "name": "Assignment - Unit 1",
      "provenance": [],
      "authorship_tag": "ABX9TyPhC5ah2/u6H7hYi4kPi0WN",
      "include_colab_link": true
    },
    "kernelspec": {
      "name": "python3",
      "display_name": "Python 3"
    },
    "language_info": {
      "name": "python"
    }
  },
  "cells": [
    {
      "cell_type": "markdown",
      "metadata": {
        "id": "view-in-github",
        "colab_type": "text"
      },
      "source": [
        "<a href=\"https://colab.research.google.com/github/CCIR-Academy/coding-start/blob/main/Assignment_Unit_1.ipynb\" target=\"_parent\"><img src=\"https://colab.research.google.com/assets/colab-badge.svg\" alt=\"Open In Colab\"/></a>"
      ]
    },
    {
      "cell_type": "markdown",
      "source": [
        "# Assignment - Unit 1\n",
        "## Read Before You Start!\n",
        "- Solve the questions whichever way you like, and don't worry about whether you are doing them the right way or even correctly as the preceeding materials havn't covered the relevant contents! \n",
        "- The purpose of such design is to get you familiar with the normal experience of coding and learning to code: you would spend more time looking for to proper way to solve your problems from all kinds of sources (e.g., search engines like `Google`/`stackoverflow`, tutorials/documentations, blogs, videos). For a  smoother start, we would like to offer a small collections of these sources, but you need to do a little bit of exploration yourself.\n",
        "- As we are following this design, don't worry if you're not able to complete the challenges as long as you have spend reasonable effor and time before you proceed to Unit 2. In the later stages of your study, you may discover more convenient or elegant way of doing it."
      ],
      "metadata": {
        "id": "zRooxYaDQqf9"
      }
    },
    {
      "cell_type": "code",
      "metadata": {
        "id": "F7pPNcu3tlml"
      },
      "source": [
        "# Challenge 1: Obtain a new variable named \"targetA\" which equals 9 (as an integer) by using data in the provided list and basic arithmatic operaters. \n",
        "numList = [2,7,11,15]\n",
        "targetA = 0\n",
        "### Write your code below\n",
        "\n",
        " \n",
        "\n",
        "\n",
        "\n",
        "\n",
        "\n",
        "### Write your code above\n",
        "print(\"My target equals %s, so I got it %s!\" % (targetA, (\"right\" if targetA == 9 else \"wrong\")))\n"
      ],
      "execution_count": null,
      "outputs": []
    },
    {
      "cell_type": "code",
      "metadata": {
        "id": "tYnQ_z0MwMtr"
      },
      "source": [
        "# Challenge 2: Obtain a reversed list for numList\n",
        "numList = [2,7,11,15]\n",
        "targetList = []\n",
        "### Write your code below\n",
        "\n",
        " \n",
        "\n",
        "\n",
        "\n",
        "\n",
        "\n",
        "### Write your code above\n",
        "print(\"My target List is %s\" % targetList)\n",
        "\n"
      ],
      "execution_count": null,
      "outputs": []
    },
    {
      "cell_type": "code",
      "metadata": {
        "id": "6equfrccw8nt"
      },
      "source": [
        "# Challenge 3: Get the sum of the elements in the list\n",
        "numList = [2,7,11,15]\n",
        "numListSum = 0\n",
        "### Write your code below\n",
        "\n",
        " \n",
        "\n",
        "\n",
        "\n",
        "\n",
        "\n",
        "### Write your code above\n",
        "print(\"My sum equals %s, so I got it %s!\" % (numListSum, (\"right\" if numListSum == 35 else \"wrong\")))"
      ],
      "execution_count": null,
      "outputs": []
    },
    {
      "cell_type": "code",
      "metadata": {
        "id": "qWj5jIsIy8ZH"
      },
      "source": [
        "# Challenge 4: Sort the list from small to big!\n",
        "numList = [7,2,15,11]\n",
        "targetList = []\n",
        "### Write your code below\n",
        "\n",
        " \n",
        "\n",
        "\n",
        "\n",
        "\n",
        "\n",
        "### Write your code above\n",
        "print(\"My target List is %s\" % targetList)\n"
      ],
      "execution_count": null,
      "outputs": []
    }
  ]
}