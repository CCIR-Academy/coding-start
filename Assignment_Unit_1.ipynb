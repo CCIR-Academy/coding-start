{
  "nbformat": 4,
  "nbformat_minor": 0,
  "metadata": {
    "colab": {
      "name": "Assignment - Unit 1",
      "provenance": [],
      "authorship_tag": "ABX9TyPvytf+velr63OPQkniuMqE",
      "include_colab_link": true
    },
    "kernelspec": {
      "name": "python3",
      "display_name": "Python 3"
    },
    "language_info": {
      "name": "python"
    }
  },
  "cells": [
    {
      "cell_type": "markdown",
      "metadata": {
        "id": "view-in-github",
        "colab_type": "text"
      },
      "source": [
        "<a href=\"https://colab.research.google.com/github/CCIR-Academy/coding-start/blob/main/Assignment_Unit_1.ipynb\" target=\"_parent\"><img src=\"https://colab.research.google.com/assets/colab-badge.svg\" alt=\"Open In Colab\"/></a>"
      ]
    },
    {
      "cell_type": "markdown",
      "source": [
        "# Assignment - Unit 1\n",
        "## Read Before You Start!\n",
        "- Solve the questions whichever way you like, and don't worry about whether you are doing them the right way or even correctly as the preceeding materials havn't covered the relevant contents! \n",
        "- The purpose of such design is to get you familiar with the normal experience of coding and learning to code: you would spend more time looking for to proper way to solve your problems from all kinds of sources (e.g., search engines like `Google`/`stackoverflow`, tutorials/documentations, blogs, videos). For a  smoother start, we would like to offer a small collections of these sources, but you need to do a little bit of exploration yourself.\n",
        "    -  Tutorial Based:\n",
        "        - https://www.learnpython.org/\n",
        "            - https://www.learnpython.org/en/Variables_and_Types\n",
        "            - https://www.learnpython.org/en/Lists\n",
        "            - https://www.learnpython.org/en/Basic_Operators\n",
        "            - https://www.learnpython.org/en/String_Formatting\n",
        "            - https://www.learnpython.org/en/Basic_String_Operations\n",
        "            - https://www.learnpython.org/en/Conditions\n",
        "            - https://www.learnpython.org/en/Loops\n",
        "            - https://www.learnpython.org/en/Functions\n",
        "            - https://www.learnpython.org/en/Classes_and_Objects\n",
        "            - https://www.learnpython.org/en/Dictionaries\n",
        "        - https://www.kaggle.com/learn/python\n",
        "            - https://www.kaggle.com/colinmorris/hello-python\n",
        "            - https://www.kaggle.com/colinmorris/functions-and-getting-help\n",
        "            - https://www.kaggle.com/colinmorris/booleans-and-conditionals\n",
        "            - https://www.kaggle.com/colinmorris/lists\n",
        "            - https://www.kaggle.com/colinmorris/loops-and-list-comprehensions\n",
        "            - https://www.kaggle.com/colinmorris/strings-and-dictionaries\n",
        "        - https://realpython.com/\n",
        "        - (Somewhat outdated as of Python 2) https://www.tutorialspoint.com/python/index.htm\n",
        "    - Topic Based:\n",
        "        - https://www.w3schools.com/python/\n",
        "        - https://www.fullstackpython.com/\n",
        "- As we are following this design, don't worry if you're not able to complete the challenges as long as you have spend reasonable effort and time before you proceed to Unit 2. In the later stages of your study, you may discover more convenient or elegant way of doing it.\n",
        "- Another good way to flatten your learning curve is to join communities of coders; for example, CCIR-Academy has our own Discord server which is created for `CCIR Tech Camp`. In most cases, people would love to answer quick questions here.\n",
        "    - Use this link to join CCIR Techcamp @ Discord: https://discord.gg/kPeKzMBVtD"
      ],
      "metadata": {
        "id": "zRooxYaDQqf9"
      }
    },
    {
      "cell_type": "code",
      "metadata": {
        "id": "F7pPNcu3tlml"
      },
      "source": [
        "# Challenge 1: Obtain a new variable named \"targetA\" which equals 9 (as an integer) by using data in the provided list and basic arithmatic operaters. \n",
        "numList = [2,7,11,15]\n",
        "targetA = 0\n",
        "### Write your code below\n",
        "\n",
        " \n",
        "\n",
        "\n",
        "\n",
        "\n",
        "\n",
        "### Write your code above\n",
        "print(\"My target equals %s, so I got it %s!\" % (targetA, (\"right\" if targetA == 9 else \"wrong\")))\n"
      ],
      "execution_count": null,
      "outputs": []
    },
    {
      "cell_type": "code",
      "metadata": {
        "id": "tYnQ_z0MwMtr"
      },
      "source": [
        "# Challenge 2: Obtain a reversed list for numList\n",
        "numList = [2,7,11,15]\n",
        "targetList = []\n",
        "### Write your code below\n",
        "\n",
        " \n",
        "\n",
        "\n",
        "\n",
        "\n",
        "\n",
        "### Write your code above\n",
        "print(\"My target List is %s\" % targetList)\n",
        "\n"
      ],
      "execution_count": null,
      "outputs": []
    },
    {
      "cell_type": "code",
      "metadata": {
        "id": "6equfrccw8nt"
      },
      "source": [
        "# Challenge 3: Get the sum of the elements in the list\n",
        "numList = [2,7,11,15]\n",
        "numListSum = 0\n",
        "### Write your code below\n",
        "\n",
        " \n",
        "\n",
        "\n",
        "\n",
        "\n",
        "\n",
        "### Write your code above\n",
        "print(\"My sum equals %s, so I got it %s!\" % (numListSum, (\"right\" if numListSum == 35 else \"wrong\")))"
      ],
      "execution_count": null,
      "outputs": []
    },
    {
      "cell_type": "code",
      "metadata": {
        "id": "qWj5jIsIy8ZH"
      },
      "source": [
        "# Challenge 4: Sort the list from small to big!\n",
        "numList = [7,2,15,11]\n",
        "targetList = []\n",
        "### Write your code below\n",
        "\n",
        " \n",
        "\n",
        "\n",
        "\n",
        "\n",
        "\n",
        "### Write your code above\n",
        "print(\"My target List is %s\" % targetList)\n"
      ],
      "execution_count": null,
      "outputs": []
    }
  ]
}