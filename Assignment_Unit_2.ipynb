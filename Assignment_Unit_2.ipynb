{
  "nbformat": 4,
  "nbformat_minor": 0,
  "metadata": {
    "colab": {
      "name": "Assignment - Unit 2.ipynb",
      "provenance": [],
      "authorship_tag": "ABX9TyNdlBeZhmcMAgL3VjhR94W9",
      "include_colab_link": true
    },
    "kernelspec": {
      "name": "python3",
      "display_name": "Python 3"
    },
    "language_info": {
      "name": "python"
    }
  },
  "cells": [
    {
      "cell_type": "markdown",
      "metadata": {
        "id": "view-in-github",
        "colab_type": "text"
      },
      "source": [
        "<a href=\"https://colab.research.google.com/github/CCIR-Academy/coding-start/blob/main/Assignment_Unit_2.ipynb\" target=\"_parent\"><img src=\"https://colab.research.google.com/assets/colab-badge.svg\" alt=\"Open In Colab\"/></a>"
      ]
    },
    {
      "cell_type": "markdown",
      "metadata": {
        "id": "QfdsqllTruBi"
      },
      "source": [
        "# Assignment 2\n",
        "\n",
        "## Task 1: Understand a snippet of executable code and how it runs on Colab\n",
        "\n",
        "Try to read and understand the following code presented by Chai.ai as much as possible. Click the play button on the left to see how it runs on Colab.\n",
        "`Note: Some features are not discussed yet.`"
      ]
    },
    {
      "cell_type": "code",
      "metadata": {
        "id": "3vjCrs_n4B48"
      },
      "source": [
        "# <- Click here to run\n",
        "%pip install chaipy nest_asyncio\n",
        "\n",
        "\n",
        "from chai_py import ChaiBot, Update, TRoom\n",
        "import datetime, asyncio\n",
        "import nest_asyncio\n",
        "nest_asyncio.apply()\n",
        "\n",
        "# Important Note: Don't worry about all the asyncio thing as they are just tweaks to allow such bot to be run on Colab. You won't need them if you run your bot locally.\n",
        "\n",
        "from chai_py import ChaiBot, Update, TRoom\n",
        "\n",
        "class EchoBot(ChaiBot):\n",
        "    def setup(self):\n",
        "        self.logger.info(\"Hello, world!\")\n",
        "\n",
        "    async def on_message(self, update: Update) -> str:\n",
        "        return f\"Echo: {update.latest_message.text}\"\n",
        "\n",
        "t_room = TRoom([EchoBot()])\n",
        "t_room.chat()"
      ],
      "execution_count": null,
      "outputs": []
    },
    {
      "cell_type": "markdown",
      "metadata": {
        "id": "xlNmlkLY2mJI"
      },
      "source": [
        "## Task 2: Handling JSON\n",
        "- In this task, we need to obtain data for the latest price for Bitcoin/USDT from WebSocket service provided by Binance into python. \n",
        "- To do so, we need to send a JSON object in string to specify what we intend to retrieve. In return, the service will continuously send back the data in JSON string as well. \n",
        "    - Objective 1: In Python, we first construct a `dict` object in the following way, and please properly convert it to a `JSON string` before we send it to the websocket service.\n",
        "```python\n",
        "requestBody: dict = {\n",
        "\"method\": \"SUBSCRIBE\",\n",
        "\"params\":\n",
        "[\n",
        "\"btcusdt@aggTrade\"\n",
        "],\n",
        "\"id\": 1\n",
        "}\n",
        "```\n",
        "    - Objective 2: In return, the websocket sends back the following JSON strings. Please parse them and convert them into **One** python `list`.\n",
        "```python\n",
        "messageOne = \"{\\\"e\\\":\\\"aggTrade\\\",\\\"E\\\":1624518980050,\\\"a\\\":637779838,\\\"s\\\":\\\"BTCUSDT\\\",\\\"p\\\":\\\"32991.14\\\",\\\"q\\\":\\\"0.001\\\",\\\"f\\\":1075515676,\\\"l\\\":1075515676,\\\"T\\\":1624518980046,\\\"m\\\":true}\"\n",
        "messageTwo = \"{\\\"e\\\":\\\"aggTrade\\\",\\\"E\\\":1624518979662,\\\"a\\\":637779822,\\\"s\\\":\\\"BTCUSDT\\\",\\\"p\\\":\\\"32994.71\\\",\\\"q\\\":\\\"0.172\\\",\\\"f\\\":1075515629,\\\"l\\\":1075515629,\\\"T\\\":1624518979613,\\\"m\\\":false}\"\n",
        "messageThree = \"{\\\"e\\\":\\\"aggTrade\\\",\\\"E\\\":1624519568742,\\\"a\\\":637792564,\\\"s\\\":\\\"BTCUSDT\\\",\\\"p\\\":\\\"33068.99\\\",\\\"q\\\":\\\"0.002\\\",\\\"f\\\":1075543663,\\\"l\\\":1075543663,\\\"T\\\":1624519568651,\\\"m\\\":true}\"\n",
        "```\n",
        "- For easy testing, you can use this online WebSocket tester: https://www.websocket.org/echo.html\n",
        "- For the official documentation in case you want to try something more than just the tasks: https://binance-docs.github.io/apidocs/futures/en/#live-subscribing-unsubscribing-to-streams\n",
        "\n",
        " \n"
      ]
    },
    {
      "cell_type": "markdown",
      "metadata": {
        "id": "kHAlNwjFCBcI"
      },
      "source": [
        "## Task 3: Loading files\n",
        "A dataset of data collected from the forementioned websocket has been uploaded to the repo. Please download it from the repo, upload it to your Colab notebook environment as guided, and load these data into **One** Python `list`.\n",
        "\n",
        "\n",
        "```python\n",
        "#Only works with google chrome\n",
        "from google.colab import files\n",
        "\n",
        "uploaded = files.upload()\n",
        "\n",
        "for fn in uploaded.keys():\n",
        "  print('User uploaded file \"{name}\" with length {length} bytes'.format(\n",
        "      name=fn, length=len(uploaded[fn])))\n",
        "```\n",
        "- It will prompt you to select a file. Click on “Choose Files” then select and upload the file. Wait for the file to be 100% uploaded. You should see the name of the file once Colab has uploaded it."
      ]
    },
    {
      "cell_type": "markdown",
      "metadata": {
        "id": "J3-H5XqG1-tW"
      },
      "source": [
        "## Task 4: Database Handling"
      ]
    },
    {
      "cell_type": "markdown",
      "metadata": {
        "id": "9NcDlMi92cNN"
      },
      "source": [
        "Create a SQL database for the price data you obtain from the `JSON` file and then answer the following questions by querying data from the database (refer to Step 3 of https://www.digitalocean.com/community/tutorials/how-to-use-the-sqlite3-module-in-python-3).\n",
        "\n",
        "\n",
        "1.   What was the first trade ID of the trade that happended at an event time of \"1624711290616\"?\n",
        "2.   List all datasets, which have a quantity of greater than 1.\n",
        "3.   Using COUNT, estimate the number of datasets where the quantiy was lower than 0.1.\n",
        "4.   Using AVG, calculate the average price of all datasets.\n",
        "\n",
        "\n",
        "\n"
      ]
    },
    {
      "cell_type": "markdown",
      "metadata": {
        "id": "eGDXHwnOC5q3"
      },
      "source": [
        "## Task 5: Write a Markdown\n"
      ]
    },
    {
      "cell_type": "markdown",
      "metadata": {
        "id": "jIBlbGYT0cW1"
      },
      "source": [
        "The following text strings are raw text of the `README.md` in the repo. Please reformat them with Markdown syntax to a readable extent. You don't have to follow exactly the original version."
      ]
    },
    {
      "cell_type": "markdown",
      "source": [
        "```\n",
        "coding-start\n",
        "Overview\n",
        "This repo aims to serve a series of pre-arrival contents as a self-learning session about the fundamentals of coding and softwares in the academic realm, for students in CCIR-Academy, particularly students currently majoring or in the near future in computer science and those taking a computational STEM course.\n",
        "\n",
        "Targeted Audience\n",
        "Students who have a relatively solid math background but don’t know anything about programming.\n",
        "Students who know a bit about programming but don’t have formal education on the subjects\n",
        "Session Design\n",
        "Session Goal\n",
        "This course aims to help students with the following goals:\n",
        "\n",
        "Get familiar with the basics of Python (e.g., syntax)\n",
        "Acquire some knowledge on debugging\n",
        "Know where to search for answers\n",
        "Gain some hands-on experience (e.g., a mini-project that students can complete within 4-6 hours)\n",
        "Session Coverage\n",
        "This course aims to cover the following topics as suggested by our faculty members:\n",
        "\n",
        "General introduction to Python.\n",
        "Basic Python syntax and usage(e.g. list, dictionary, for and while loops, debugging)\n",
        "Fundamentals of setting up and using Jupyter Notebook (powered by Google Colab)\n",
        "Fundamentals of frequently imported third-party libraries (e.g., numpy, scipyh and pandas）\n",
        "Basic academic techniques that requires knowledge of coding or using certain softwares (e.g., data visualization, markdown writing, database)\n",
        "Session Structure\n",
        "Volume of Content: We expect students spend 4 - 6 hours a week on the session for 2 weeks or in other words 8 - 12 hours in total as students should feel free to adjust their own pace.\n",
        "\n",
        "Learning Materials: Materials are designed as units in relation to topics and distributed as Google Colab Notebooks. Each unit would contain:\n",
        "\n",
        "Overall study guides (How to use these material)\n",
        "Reading materials/videos or both.\n",
        "Step-by-step guided exercises\n",
        "Session References\n",
        "Python for Economists\n",
        "\n",
        "Variables and expressions - Python Tutorial From the course: Learning Python (2020)\n",
        "\n",
        "https://stackoverflow.com/questions/tagged/python\n",
        "\n",
        "https://colab.research.google.com/github/cs231n/cs231n.github.io/blob/master/python-colab.ipynb#scrollTo=DL5sMSZ9L9eq\n",
        "\n",
        "https://colab.research.google.com/drive/1B2WZJN5FT0t-E6ATU_TKvst73fT9-ExP?usp=sharing\n",
        "\n",
        "https://colab.research.google.com/drive/1haknN69GPnU0R1iDfl1CgyOlXtS1DWbi?usp=sharing\n",
        "\n",
        "Table of Contents\n",
        "Unit 1 - Start to Learn Coding with Colab\n",
        "Assignment - Unit 1\n",
        "Unit 2 - Basic Python syntax and Core Standard Libraries\n",
        "```"
      ],
      "metadata": {
        "id": "NvzOeyuUIC1z"
      }
    },
    {
      "cell_type": "markdown",
      "source": [
        "> Double click here to format the text in this cell."
      ],
      "metadata": {
        "id": "78EetMlWI3_r"
      }
    }
  ]
}